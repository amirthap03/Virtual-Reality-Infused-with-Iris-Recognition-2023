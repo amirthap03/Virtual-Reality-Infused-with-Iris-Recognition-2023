{
  "nbformat": 4,
  "nbformat_minor": 0,
  "metadata": {
    "colab": {
      "provenance": []
    },
    "kernelspec": {
      "name": "python3",
      "display_name": "Python 3"
    },
    "language_info": {
      "name": "python"
    }
  },
  "cells": [
    {
      "cell_type": "code",
      "source": [
        "#segmentation of two eye images\n",
        "import cv2\n",
        "import numpy as np\n",
        "from scipy.signal import find_peaks\n",
        "\n",
        "# iris segmentation\n",
        "def iris_segmentation(img):\n",
        "    #img to grayscale\n",
        "    gray = cv2.cvtColor(img, cv2.COLOR_BGR2GRAY)\n",
        "\n",
        "    # Gaussian blur (noise removal)\n",
        "    blur = cv2.GaussianBlur(gray, (5, 5), 0)\n",
        "\n",
        "    # adaptive thresholding (binarize img)\n",
        "    thresh = cv2.adaptiveThreshold(blur, 255, cv2.ADAPTIVE_THRESH_GAUSSIAN_C, cv2.THRESH_BINARY_INV, 11, 2)\n",
        "\n",
        "    # morphological closing (fill  gaps)\n",
        "    kernel = np.ones((3, 3), np.uint8)\n",
        "    closing = cv2.morphologyEx(thresh, cv2.MORPH_CLOSE, kernel)\n",
        "\n",
        "    # finding vertical iris boundaries\n",
        "    dy = np.diff(closing, axis=0)\n",
        "    peaks, _ = find_peaks(np.sum(dy, axis=1), distance=20)\n",
        "\n",
        "    # extracting iris region\n",
        "    iris = img[peaks[0]:peaks[-1], :]\n",
        "\n",
        "    return iris\n",
        "#loading images\n",
        "img1 = cv2.imread('/content/1.jpg')\n",
        "img2 = cv2.imread('/content/2.jpg')\n",
        "\n",
        "# iris segmentation  performance on each image\n",
        "iris1 = iris_segmentation(img1)\n",
        "iris2 = iris_segmentation(img2)\n",
        "\n",
        "# saving\n",
        "cv2.imwrite('iris1.jpg', iris1)\n",
        "cv2.imwrite('iris2.jpg', iris2)"
      ],
      "metadata": {
        "colab": {
          "base_uri": "https://localhost:8080/"
        },
        "id": "xjjTlD-zXx1l",
        "outputId": "b1af8f02-cf93-4ea8-bba8-ca2db13562d5"
      },
      "execution_count": null,
      "outputs": [
        {
          "output_type": "execute_result",
          "data": {
            "text/plain": [
              "True"
            ]
          },
          "metadata": {},
          "execution_count": 9
        }
      ]
    },
    {
      "cell_type": "code",
      "source": [
        "# normalisation for iris1\n",
        "import cv2\n",
        "import numpy as np\n",
        "\n",
        "# Loading iris image1\n",
        "img = cv2.imread('/content/iris1.jpg')\n",
        "\n",
        "# grayscale conversion\n",
        "gray = cv2.cvtColor(img, cv2.COLOR_BGR2GRAY)\n",
        "\n",
        "# Gaussian blur to reduce noise\n",
        "gray = cv2.GaussianBlur(gray, (5,5), 0)\n",
        "\n",
        "# Applying  threshold\n",
        "ret, thresh = cv2.threshold(gray, 70, 255, cv2.THRESH_BINARY_INV)\n",
        "\n",
        "# Finding contours of the iris\n",
        "contours, hierarchy = cv2.findContours(thresh, cv2.RETR_EXTERNAL, cv2.CHAIN_APPROX_SIMPLE)\n",
        "\n",
        "# Selecting largest contour,\n",
        "iris_contour = max(contours, key=cv2.contourArea)\n",
        "\n",
        "# Finding the center and radius of the iris\n",
        "(x, y), radius = cv2.minEnclosingCircle(iris_contour)\n",
        "center = (int(x), int(y))\n",
        "radius = int(radius)\n",
        "\n",
        "# visualization\n",
        "cv2.circle(img, center, radius, (0, 255, 0), 2)\n",
        "\n",
        "# normalization by cropping and resizing the iris region\n",
        "iris = img[int(y)-radius:int(y)+radius, int(x)-radius:int(x)+radius]\n",
        "iris = cv2.resize(iris, (200, 100))\n",
        "\n",
        "# Save the normalized iris image\n",
        "cv2.imwrite('normalized_iris1.jpg', iris)"
      ],
      "metadata": {
        "colab": {
          "base_uri": "https://localhost:8080/"
        },
        "id": "7eiglz-1e3ls",
        "outputId": "1715f4cd-a2b3-4588-cad7-9c606bca81dd"
      },
      "execution_count": null,
      "outputs": [
        {
          "output_type": "execute_result",
          "data": {
            "text/plain": [
              "True"
            ]
          },
          "metadata": {},
          "execution_count": 10
        }
      ]
    },
    {
      "cell_type": "code",
      "source": [
        "# normalisation for iris2\n",
        "import cv2\n",
        "import numpy as np\n",
        "\n",
        "# Loading\n",
        "img = cv2.imread('/content/iris2.jpg')\n",
        "\n",
        "# Conversion\n",
        "gray = cv2.cvtColor(img, cv2.COLOR_BGR2GRAY)\n",
        "\n",
        "# Apply Gaussian blur (reduce noise)\n",
        "gray = cv2.GaussianBlur(gray, (5,5), 0)\n",
        "\n",
        "# Applying threshold to segment\n",
        "ret, thresh = cv2.threshold(gray, 70, 255, cv2.THRESH_BINARY_INV)\n",
        "\n",
        "# Finding  contours of the iris\n",
        "contours, hierarchy = cv2.findContours(thresh, cv2.RETR_EXTERNAL, cv2.CHAIN_APPROX_SIMPLE)\n",
        "\n",
        "# Selecing  largest contour, which should be the iris\n",
        "iris_contour = max(contours, key=cv2.contourArea)\n",
        "\n",
        "# Finding center and radius of the iris\n",
        "(x, y), radius = cv2.minEnclosingCircle(iris_contour)\n",
        "center = (int(x), int(y))\n",
        "radius = int(radius)\n",
        "\n",
        "# visualization\n",
        "cv2.circle(img, center, radius, (0, 255, 0), 2)\n",
        "\n",
        "# Perform normalization\n",
        "iris = img[int(y)-radius:int(y)+radius, int(x)-radius:int(x)+radius]\n",
        "iris = cv2.resize(iris, (200, 100))\n",
        "\n",
        "# Saving\n",
        "cv2.imwrite('normalized_iris2.jpg', iris)"
      ],
      "metadata": {
        "colab": {
          "base_uri": "https://localhost:8080/"
        },
        "id": "gyNVlVfrlU-K",
        "outputId": "e6664ead-8821-4681-d7ab-b656ccf46b00"
      },
      "execution_count": null,
      "outputs": [
        {
          "output_type": "execute_result",
          "data": {
            "text/plain": [
              "True"
            ]
          },
          "metadata": {},
          "execution_count": 5
        }
      ]
    },
    {
      "cell_type": "code",
      "source": [
        "# feature encoding for normalized iris  image 1\n",
        "\n",
        "import numpy as np\n",
        "import tensorflow as tf\n",
        "from tensorflow.keras.preprocessing.image import load_img, img_to_array\n",
        "from tensorflow.keras.applications.vgg16 import preprocess_input\n",
        "from tensorflow.keras.applications.vgg16 import VGG16\n",
        "\n",
        "# Loading pre-trained VGG16 model (without the last layer)\n",
        "model = VGG16(weights='imagenet', include_top=False)\n",
        "\n",
        "# Load normalized image from file\n",
        "img_path = '/content/normalized_iris1.jpg'\n",
        "img = load_img(img_path, target_size=(224, 224))\n",
        "img_array = img_to_array(img)\n",
        "img_array = np.expand_dims(img_array, axis=0)\n",
        "img_array = preprocess_input(img_array)\n",
        "\n",
        "# Encode image features\n",
        "features = model.predict(img_array)\n",
        "\n",
        "# Saving\n",
        "np.save('features1.npy', features)\n"
      ],
      "metadata": {
        "colab": {
          "base_uri": "https://localhost:8080/"
        },
        "id": "JKRdV5kUiEHU",
        "outputId": "30424086-5c69-403f-ee76-0f192a78ef74"
      },
      "execution_count": null,
      "outputs": [
        {
          "output_type": "stream",
          "name": "stdout",
          "text": [
            "Downloading data from https://storage.googleapis.com/tensorflow/keras-applications/vgg16/vgg16_weights_tf_dim_ordering_tf_kernels_notop.h5\n",
            "58889256/58889256 [==============================] - 0s 0us/step\n",
            "1/1 [==============================] - 1s 969ms/step\n"
          ]
        }
      ]
    },
    {
      "cell_type": "code",
      "source": [
        "# feature encoding for normlised  iris image 2\n",
        "\n",
        "import numpy as np\n",
        "import tensorflow as tf\n",
        "from tensorflow.keras.preprocessing.image import load_img, img_to_array\n",
        "from tensorflow.keras.applications.vgg16 import preprocess_input\n",
        "from tensorflow.keras.applications.vgg16 import VGG16\n",
        "\n",
        "# Load pre-trained VGG16 model (without the last layer)\n",
        "model = VGG16(weights='imagenet', include_top=False)\n",
        "\n",
        "# Loading normalized image\n",
        "img_path = '/content/normalized_iris2.jpg'\n",
        "img = load_img(img_path, target_size=(224, 224))\n",
        "img_array = img_to_array(img)\n",
        "img_array = np.expand_dims(img_array, axis=0)\n",
        "img_array = preprocess_input(img_array)\n",
        "\n",
        "# Encode image features\n",
        "features = model.predict(img_array)\n",
        "\n",
        "# Saving\n",
        "np.save('features2.npy', features)\n"
      ],
      "metadata": {
        "colab": {
          "base_uri": "https://localhost:8080/"
        },
        "id": "yFo96-TOlpsN",
        "outputId": "e291289a-9580-447f-c6b4-c3dadebd6e55"
      },
      "execution_count": null,
      "outputs": [
        {
          "output_type": "stream",
          "name": "stdout",
          "text": [
            "1/1 [==============================] - 1s 709ms/step\n"
          ]
        }
      ]
    },
    {
      "cell_type": "code",
      "source": [
        "#Matching\n",
        "import numpy as np\n",
        "\n",
        "# loading the encoded features for the two iris images\n",
        "features1 = np.load('/content/features1.npy')\n",
        "features2 = np.load('/content/features2.npy')\n",
        "\n",
        "# calculating the Hamming Distance between the two feature vectors\n",
        "distance = np.count_nonzero(features1 != features2)\n",
        "\n",
        "# set a threshold value for similarity\n",
        "threshold = 50\n",
        "\n",
        "# Matching\n",
        "if distance <= threshold:\n",
        "    print(\"The two iris images match!\")\n",
        "else:\n",
        "    print(\"The two iris images do not match.\")\n"
      ],
      "metadata": {
        "id": "LLc0QtZxl1JE",
        "colab": {
          "base_uri": "https://localhost:8080/"
        },
        "outputId": "880ffac9-347a-4770-e82b-0f4214fbdeb5"
      },
      "execution_count": null,
      "outputs": [
        {
          "output_type": "stream",
          "name": "stdout",
          "text": [
            "The two iris images do not match.\n"
          ]
        }
      ]
    }
  ]
}